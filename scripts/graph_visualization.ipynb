{
 "cells": [
  {
   "cell_type": "code",
   "execution_count": null,
   "id": "36c9be0f",
   "metadata": {},
   "outputs": [],
   "source": [
    "import pandas as pd\n",
    "from dataset.lamah import LamaH\n",
    "\n",
    "import numpy as np\n",
    "import networkx as nx\n",
    "\n",
    "from bokeh.io import output_file, show\n",
    "from bokeh.plotting import figure, from_networkx\n",
    "from bokeh.models import GraphRenderer, Circle, StaticLayoutProvider\n",
    "from bokeh.palettes import Spectral4\n",
    "from bokeh.models import (BoxSelectTool, BoxZoomTool, ResetTool, Circle, EdgesAndLinkedNodes, HoverTool,\n",
    "                          MultiLine, NodesAndLinkedEdges, Plot, TapTool, Range1d)\n",
    "\n",
    "import pydot\n",
    "from networkx.drawing.nx_pydot import graphviz_layout"
   ]
  },
  {
   "cell_type": "markdown",
   "id": "c515cd88",
   "metadata": {},
   "source": [
    "## Load graph"
   ]
  },
  {
   "cell_type": "code",
   "execution_count": null,
   "id": "9f5de12d",
   "metadata": {},
   "outputs": [],
   "source": [
    "data = LamaH()\n",
    "ts_qobs_df, _, _, _, _, _ = data.load(discard_disconnected_components=True)"
   ]
  },
  {
   "cell_type": "code",
   "execution_count": null,
   "id": "2bfca30d",
   "metadata": {},
   "outputs": [],
   "source": [
    "# Load gauges (nodes) attributes\n",
    "gauge_attribs_path = './data/LamaH-CE/D_gauges/1_attributes/Gauge_attributes.csv'\n",
    "gauge_attribs = pd.read_csv(gauge_attribs_path, sep=';').set_index('ID')\n",
    "\n",
    "# Filter out unused gauges\n",
    "nodes = ts_qobs_df.columns\n",
    "gauge_attribs = gauge_attribs.loc[nodes]"
   ]
  },
  {
   "cell_type": "code",
   "execution_count": null,
   "id": "37f7172d",
   "metadata": {},
   "outputs": [],
   "source": [
    "nodes = list(range(len(ts_qobs_df.columns)))\n",
    "attribs = [dict(ID=n,\n",
    "                gname=gauge_attribs.loc[n, 'name'],\n",
    "                area=gauge_attribs.loc[n, 'area_gov'],\n",
    "                elev=gauge_attribs.loc[n, 'elev'],\n",
    "                start=gauge_attribs.loc[n, 'obsbeg_day']) for n in ts_qobs_df.columns]\n",
    "nodes_attribs = list(zip(nodes, attribs))\n",
    "\n",
    "######\n",
    "\n",
    "g = nx.Graph()\n",
    "\n",
    "g.add_nodes_from(nodes_attribs)\n",
    "edge_index, edge_weights = data.get_connectivity(method='binary',\n",
    "                                                 layout='edge_index')\n",
    "g.add_edges_from(edge_index.T)"
   ]
  },
  {
   "cell_type": "markdown",
   "id": "3896fc3f",
   "metadata": {},
   "source": [
    "## Plot Graph"
   ]
  },
  {
   "cell_type": "code",
   "execution_count": null,
   "id": "f971521b",
   "metadata": {},
   "outputs": [],
   "source": [
    "plot = figure(title='LamaH-CE Network', x_range=Range1d(4.150e+6, 5.000e+6), y_range=Range1d(2.500e+6, 3.100e+6),\n",
    "              width=1800, height=950)\n",
    "\n",
    "node_hover_tool = HoverTool(tooltips=[('ID', '@ID'),\n",
    "                                      ('Name', '@gname'),\n",
    "                                      ('Area (km^2)', '@area'),\n",
    "                                      ('Elevation (m a.s.l.)', '@elev'),\n",
    "                                      ('Obs start (year)', '@start')])\n",
    "plot.add_tools(node_hover_tool, TapTool())"
   ]
  },
  {
   "cell_type": "markdown",
   "id": "ab90d527",
   "metadata": {},
   "source": [
    "### Create Graph Renderer from nextworkx (pydot to layout nodes)"
   ]
  },
  {
   "cell_type": "code",
   "execution_count": null,
   "id": "92b06d9f",
   "metadata": {},
   "outputs": [],
   "source": [
    "graph_renderer = from_networkx(g, graphviz_layout(g, prog='fdp'), scale=2, center=(0,0)) #dot"
   ]
  },
  {
   "cell_type": "markdown",
   "id": "8e262449",
   "metadata": {},
   "source": [
    "### Use geographic layout"
   ]
  },
  {
   "cell_type": "code",
   "execution_count": null,
   "id": "29008c56",
   "metadata": {},
   "outputs": [],
   "source": [
    "# create lists of x- and y-coordinates\n",
    "x = gauge_attribs.loc[:, 'lon']\n",
    "y = gauge_attribs.loc[:, 'lat']\n",
    "\n",
    "# convert the ``x`` and ``y`` lists into a dictionary of 2D-coordinates\n",
    "# and assign each entry to a node on the ``node_indices`` list\n",
    "graph_layout = dict(zip(nodes, zip(x, y)))\n",
    "\n",
    "# use the provider model to supply coourdinates to the graph\n",
    "graph_renderer.layout_provider = StaticLayoutProvider(graph_layout=graph_layout)"
   ]
  },
  {
   "cell_type": "markdown",
   "id": "32515f6e",
   "metadata": {},
   "source": [
    "### Complete plotting procedure"
   ]
  },
  {
   "cell_type": "code",
   "execution_count": null,
   "id": "ef0cc056",
   "metadata": {},
   "outputs": [],
   "source": [
    "graph_renderer.node_renderer.glyph = Circle(size=10, fill_color=Spectral4[0])\n",
    "graph_renderer.node_renderer.selection_glyph = Circle(size=10, fill_color=Spectral4[2])\n",
    "graph_renderer.node_renderer.hover_glyph = Circle(size=10, fill_color=Spectral4[1])\n",
    "\n",
    "graph_renderer.edge_renderer.glyph = MultiLine(line_color='#CCCCCC', line_alpha=0.8, line_width=2)\n",
    "graph_renderer.edge_renderer.selection_glyph = MultiLine(line_color=Spectral4[2], line_width=2)\n",
    "graph_renderer.edge_renderer.hover_glyph = MultiLine(line_color=Spectral4[1], line_width=2)\n",
    "\n",
    "graph_renderer.selection_policy = NodesAndLinkedEdges()\n",
    "# graph_renderer.inspection_policy = EdgesAndLinkedNodes()\n",
    "\n",
    "\n",
    "plot.renderers.append(graph_renderer)\n",
    "\n",
    "output_file('./data/LamaH-CE/lamah_network.html')\n",
    "show(plot)"
   ]
  },
  {
   "cell_type": "code",
   "execution_count": null,
   "id": "538df076",
   "metadata": {},
   "outputs": [],
   "source": []
  }
 ],
 "metadata": {
  "kernelspec": {
   "display_name": "Python 3 (ipykernel)",
   "language": "python",
   "name": "python3"
  },
  "language_info": {
   "codemirror_mode": {
    "name": "ipython",
    "version": 3
   },
   "file_extension": ".py",
   "mimetype": "text/x-python",
   "name": "python",
   "nbconvert_exporter": "python",
   "pygments_lexer": "ipython3",
   "version": "3.8.2"
  }
 },
 "nbformat": 4,
 "nbformat_minor": 5
}
