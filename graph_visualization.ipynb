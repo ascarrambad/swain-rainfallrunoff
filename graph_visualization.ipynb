{
 "cells": [
  {
   "cell_type": "code",
   "execution_count": 1,
   "id": "36c9be0f",
   "metadata": {},
   "outputs": [
    {
     "name": "stderr",
     "output_type": "stream",
     "text": [
      "/usr/local/Caskroom/miniconda/base/envs/tsl/lib/python3.8/site-packages/tqdm/auto.py:22: TqdmWarning: IProgress not found. Please update jupyter and ipywidgets. See https://ipywidgets.readthedocs.io/en/stable/user_install.html\n",
      "  from .autonotebook import tqdm as notebook_tqdm\n"
     ]
    }
   ],
   "source": [
    "from dataset.lamah import LamaH\n",
    "\n",
    "import numpy as np\n",
    "import networkx as nx\n",
    "\n",
    "from bokeh.io import output_file, show\n",
    "from bokeh.plotting import figure, from_networkx\n",
    "from bokeh.palettes import Spectral4\n",
    "from bokeh.models import (BoxSelectTool, BoxZoomTool, ResetTool, Circle, EdgesAndLinkedNodes, HoverTool,\n",
    "                          MultiLine, NodesAndLinkedEdges, Plot, TapTool, Range1d)\n",
    "\n",
    "import pydot\n",
    "from networkx.drawing.nx_pydot import graphviz_layout"
   ]
  },
  {
   "cell_type": "code",
   "execution_count": 2,
   "id": "9f5de12d",
   "metadata": {},
   "outputs": [],
   "source": [
    "data = LamaH()\n",
    "ts_qobs_df, ts_exos_dict, attribs_dict, dists_mtx, ts_qobs_mask = data.load()"
   ]
  },
  {
   "cell_type": "code",
   "execution_count": 3,
   "id": "37f7172d",
   "metadata": {},
   "outputs": [],
   "source": [
    "g = nx.Graph()\n",
    "\n",
    "nodes = list(range(len(ts_qobs_df.columns)))\n",
    "attribs = [dict(ID=n) for n in ts_qobs_df.columns]\n",
    "nodes_attribs = list(zip(nodes, attribs))\n",
    "\n",
    "g.add_nodes_from(nodes_attribs)\n",
    "edge_index = data.get_connectivity(method='distance',\n",
    "                                   layout='edge_index')[0]\n",
    "edge_index = list(zip(edge_index[0].tolist(), edge_index[1].tolist()))\n",
    "g.add_edges_from(edge_index)"
   ]
  },
  {
   "cell_type": "code",
   "execution_count": 4,
   "id": "92b06d9f",
   "metadata": {},
   "outputs": [],
   "source": [
    "plot = figure(title='LamaH-CE Network', x_range=Range1d(-200, 12200), y_range=Range1d(-100, 1500),\n",
    "              width=1900, height=400)\n",
    "\n",
    "node_hover_tool = HoverTool(tooltips=[('ID', '@ID')])\n",
    "plot.add_tools(node_hover_tool, TapTool())\n",
    "\n",
    "graph_renderer = from_networkx(g, graphviz_layout(g, prog='dot'), scale=2, center=(0,0)) #circo\n",
    "\n",
    "graph_renderer.node_renderer.glyph = Circle(size=10, fill_color=Spectral4[0])\n",
    "graph_renderer.node_renderer.selection_glyph = Circle(size=10, fill_color=Spectral4[2])\n",
    "graph_renderer.node_renderer.hover_glyph = Circle(size=10, fill_color=Spectral4[1])\n",
    "\n",
    "graph_renderer.edge_renderer.glyph = MultiLine(line_color='#CCCCCC', line_alpha=0.8, line_width=2)\n",
    "graph_renderer.edge_renderer.selection_glyph = MultiLine(line_color=Spectral4[2], line_width=2)\n",
    "graph_renderer.edge_renderer.hover_glyph = MultiLine(line_color=Spectral4[1], line_width=2)\n",
    "\n",
    "graph_renderer.selection_policy = NodesAndLinkedEdges()\n",
    "# graph_renderer.inspection_policy = EdgesAndLinkedNodes()\n",
    "\n",
    "\n",
    "plot.renderers.append(graph_renderer)\n",
    "\n",
    "output_file('./data/LamaH-CE/lamah_network.html')\n",
    "show(plot)"
   ]
  },
  {
   "cell_type": "code",
   "execution_count": 24,
   "id": "b87ff3f4",
   "metadata": {},
   "outputs": [],
   "source": [
    "node_index = dict(zip(list(ts_qobs_df.columns), list(range(len(ts_qobs_df.columns)))))\n",
    "adjacencym = data.get_connectivity(method='stcn',\n",
    "                                   layout='dense')"
   ]
  },
  {
   "cell_type": "code",
   "execution_count": 25,
   "id": "90f947b3",
   "metadata": {},
   "outputs": [
    {
     "name": "stdout",
     "output_type": "stream",
     "text": [
      "59 -> 55\n",
      "60 -> 56\n"
     ]
    }
   ],
   "source": [
    "print(f'59 -> {node_index[59]}')\n",
    "print(f'60 -> {node_index[60]}')"
   ]
  },
  {
   "cell_type": "code",
   "execution_count": 26,
   "id": "27970eec",
   "metadata": {},
   "outputs": [
    {
     "name": "stdout",
     "output_type": "stream",
     "text": [
      "### DIST MTX (shape: (850, 850)) ###\n",
      "59 -> 60: 144.10000610351562\n",
      "59 -> 60: inf\n",
      "### ADJA MTX (shape: (850, 850)) ###\n",
      "59 -> 60: 0.0\n",
      "59 -> 60: 0.0\n"
     ]
    }
   ],
   "source": [
    "print(f'### DIST MTX (shape: {dists_mtx.shape}) ###')\n",
    "print(f'59 -> 60: {dists_mtx[55,56]}')\n",
    "print(f'59 -> 60: {dists_mtx[56,55]}')\n",
    "print(f'### ADJA MTX (shape: {adjacencym.shape}) ###')\n",
    "print(f'59 -> 60: {adjacencym[55,56]}')\n",
    "print(f'59 -> 60: {adjacencym[56,55]}')"
   ]
  },
  {
   "cell_type": "code",
   "execution_count": 27,
   "id": "8f4e34db",
   "metadata": {},
   "outputs": [
    {
     "data": {
      "text/plain": [
       "array([[0.        , 0.        , 0.        , ..., 0.        , 0.        ,\n",
       "        0.        ],\n",
       "       [0.        , 0.        , 0.33905265, ..., 0.        , 0.        ,\n",
       "        0.        ],\n",
       "       [0.        , 0.        , 0.        , ..., 0.        , 0.        ,\n",
       "        0.        ],\n",
       "       ...,\n",
       "       [0.        , 0.        , 0.        , ..., 0.        , 0.9964065 ,\n",
       "        0.        ],\n",
       "       [0.        , 0.        , 0.        , ..., 0.        , 0.        ,\n",
       "        0.        ],\n",
       "       [0.        , 0.        , 0.        , ..., 0.        , 0.        ,\n",
       "        0.        ]], dtype=float32)"
      ]
     },
     "execution_count": 27,
     "metadata": {},
     "output_type": "execute_result"
    }
   ],
   "source": [
    "adjacencym"
   ]
  },
  {
   "cell_type": "code",
   "execution_count": 28,
   "id": "9dd8113d",
   "metadata": {},
   "outputs": [
    {
     "data": {
      "text/plain": [
       "array([[ inf,  inf,  inf, ...,  inf,  inf,  inf],\n",
       "       [ inf,  inf, 10.4, ...,  inf,  inf,  inf],\n",
       "       [ inf,  inf,  inf, ...,  inf,  inf,  inf],\n",
       "       ...,\n",
       "       [ inf,  inf,  inf, ...,  inf,  0.6,  inf],\n",
       "       [ inf,  inf,  inf, ...,  inf,  inf,  inf],\n",
       "       [ inf,  inf,  inf, ...,  inf,  inf,  inf]], dtype=float32)"
      ]
     },
     "execution_count": 28,
     "metadata": {},
     "output_type": "execute_result"
    }
   ],
   "source": [
    "dists_mtx"
   ]
  },
  {
   "cell_type": "code",
   "execution_count": null,
   "id": "90586fe3",
   "metadata": {},
   "outputs": [],
   "source": []
  }
 ],
 "metadata": {
  "kernelspec": {
   "display_name": "Python 3 (ipykernel)",
   "language": "python",
   "name": "python3"
  },
  "language_info": {
   "codemirror_mode": {
    "name": "ipython",
    "version": 3
   },
   "file_extension": ".py",
   "mimetype": "text/x-python",
   "name": "python",
   "nbconvert_exporter": "python",
   "pygments_lexer": "ipython3",
   "version": "3.8.2"
  }
 },
 "nbformat": 4,
 "nbformat_minor": 5
}
